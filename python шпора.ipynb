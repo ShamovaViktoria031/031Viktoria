{
 "cells": [
  {
   "cell_type": "markdown",
   "metadata": {},
   "source": [
    "## Начало"
   ]
  },
  {
   "cell_type": "code",
   "execution_count": 2,
   "metadata": {},
   "outputs": [
    {
     "name": "stdout",
     "output_type": "stream",
     "text": [
      "9.5\n",
      "10 2.5\n",
      "25\n",
      "2.5\n",
      "2\n",
      "1\n"
     ]
    }
   ],
   "source": [
    "a=2\n",
    "b=int(5)\n",
    "c=float(2.5)\n",
    "print(a+b+c)\n",
    "print(a*b, (c-a) * 5)\n",
    "print(b**2)  # две звёздочки означают возведение в степень\n",
    "print(b/a)  # один слэш — это деление с ответом-дробью\n",
    "print(b//a)  # два слэша считают частное от деления нацело\n",
    "                # это как операция div в других языках\n",
    "print(b%a)  # процент считает остаток от деления нацело\n",
    "               # это как операция mod в других языках"
   ]
  },
  {
   "cell_type": "code",
   "execution_count": 31,
   "metadata": {},
   "outputs": [
    {
     "name": "stdout",
     "output_type": "stream",
     "text": [
      "Как вас зовут?\n",
      "Здравствуйте, paul!\n",
      "Здравствуйте, paul!\n"
     ]
    }
   ],
   "source": [
    "question='Как вас зовут?'\n",
    "print(question)\n",
    "name = input()  # считываем строку и кладём её в переменную name\n",
    "print('Здравствуйте, ' + name + '!')\n",
    "print(f'Здравствуйте, {name}!') # форматированный вывод"
   ]
  },
  {
   "cell_type": "code",
   "execution_count": 11,
   "metadata": {},
   "outputs": [
    {
     "name": "stdout",
     "output_type": "stream",
     "text": [
      "23\n",
      "5\n"
     ]
    }
   ],
   "source": [
    "a = input()\n",
    "b = input()\n",
    "s = a + b\n",
    "print(s)  #не сумма\n",
    "\n",
    "a = int(a)\n",
    "b = int(b)\n",
    "s = a + b\n",
    "print(s)  #сумма"
   ]
  },
  {
   "cell_type": "code",
   "execution_count": 59,
   "metadata": {},
   "outputs": [
    {
     "name": "stdout",
     "output_type": "stream",
     "text": [
      "abcabcabc\n"
     ]
    }
   ],
   "source": [
    "print('abc' * 3) # можно и так"
   ]
  },
  {
   "cell_type": "code",
   "execution_count": 63,
   "metadata": {},
   "outputs": [
    {
     "name": "stdout",
     "output_type": "stream",
     "text": [
      "ab a b\n"
     ]
    }
   ],
   "source": [
    "a='a'\n",
    "b='b'\n",
    "print(a+b,end=' ' ) # символ переноса строки заменен на пробел\n",
    "print (a,b)"
   ]
  },
  {
   "cell_type": "markdown",
   "metadata": {},
   "source": [
    "## Списки"
   ]
  },
  {
   "cell_type": "code",
   "execution_count": 72,
   "metadata": {},
   "outputs": [
    {
     "name": "stdout",
     "output_type": "stream",
     "text": [
      "[]\n",
      "['a', 'b', 'c', '1', '2', '3']\n",
      "[0, 1, 2, 3, 4]\n",
      "длина списка [0, 1, 2, 3, 4] = 5\n",
      "количество 0=2, позиция 1=1, максимум и минимум = 4 0\n"
     ]
    }
   ],
   "source": [
    "spisok=[] # пустой список\n",
    "print(spisok)\n",
    "\n",
    "stroka='abc123' # создание списка из текстовой строки\n",
    "spisok=list(stroka)\n",
    "print(spisok)\n",
    "\n",
    "spisok=[int(x) for x in range(5)]  # использование генератора\n",
    "print(spisok)\n",
    "\n",
    "print(f'длина списка {spisok} = {len(spisok)}')\n",
    "spisok.append(0)  #добавим число 0 в конец списка\n",
    "num=spisok.count(0)\n",
    "ind=spisok.index(1)\n",
    "maxi,mini=max(spisok),min(spisok)\n",
    "print(f'количество 0={num}, позиция 1={ind}, максимум и минимум = {maxi} {mini}')"
   ]
  },
  {
   "cell_type": "markdown",
   "metadata": {},
   "source": [
    "## Цикл for"
   ]
  },
  {
   "cell_type": "code",
   "execution_count": 65,
   "metadata": {},
   "outputs": [
    {
     "name": "stdout",
     "output_type": "stream",
     "text": [
      "range(0, 10)\n",
      "0 1 2 3 4 5 6 7 8 9 \n",
      "1 3 5 7 9 a b c d e f g \n",
      "0 1 2 3 4 "
     ]
    }
   ],
   "source": [
    "spisok=(range(10))\n",
    "print(spisok)\n",
    "for i in spisok:\n",
    "    print (i ,end=' ')\n",
    "print()\n",
    "\n",
    "for i in range(1,10,2): # цикл с шагом +2\n",
    "    print (i ,end=' ')\n",
    "\n",
    "spisok='abcdefg'\n",
    "for i in spisok:\n",
    "    print (i ,end=' ')\n",
    "print()\n",
    "\n",
    "a=[1,2,3,4,5]\n",
    "for i in range(len(a)):  # len = длина \n",
    "    print(i, end=' ')\n",
    "\n",
    "\n"
   ]
  },
  {
   "cell_type": "code",
   "execution_count": null,
   "metadata": {},
   "outputs": [],
   "source": [
    "# методы рабоы со списком"
   ]
  },
  {
   "cell_type": "markdown",
   "metadata": {},
   "source": [
    "## Полезные однострочные конструкции"
   ]
  },
  {
   "cell_type": "code",
   "execution_count": 19,
   "metadata": {},
   "outputs": [
    {
     "name": "stdout",
     "output_type": "stream",
     "text": [
      "a=5 b=4\n"
     ]
    }
   ],
   "source": [
    "a = 4 \n",
    "b = 5\n",
    "a,b = b,a\n",
    "print(f\"a={a} b={b}\")"
   ]
  },
  {
   "cell_type": "code",
   "execution_count": 23,
   "metadata": {},
   "outputs": [
    {
     "name": "stdout",
     "output_type": "stream",
     "text": [
      "4 5.5 Hello\n"
     ]
    }
   ],
   "source": [
    "a,b,c = 4, 5.5, 'Hello'\n",
    "print(a,b,c)"
   ]
  },
  {
   "cell_type": "code",
   "execution_count": 29,
   "metadata": {},
   "outputs": [
    {
     "name": "stdout",
     "output_type": "stream",
     "text": [
      "1 [2, 3, 4] 5\n"
     ]
    }
   ],
   "source": [
    "a,*b,c = [1,2,3,4,5]\n",
    "print(a,b,c)"
   ]
  },
  {
   "cell_type": "code",
   "execution_count": 35,
   "metadata": {},
   "outputs": [
    {
     "name": "stdout",
     "output_type": "stream",
     "text": [
      "12\n"
     ]
    }
   ],
   "source": [
    "a = [1,2,3,4,5,6]\n",
    "s = sum([num for num in a if num%2 == 0]) # Сумма четных чисел в списке\n",
    "print(s)"
   ]
  },
  {
   "cell_type": "code",
   "execution_count": null,
   "metadata": {},
   "outputs": [],
   "source": []
  }
 ],
 "metadata": {
  "kernelspec": {
   "display_name": "Python 3.10.7 64-bit (microsoft store)",
   "language": "python",
   "name": "python3"
  },
  "language_info": {
   "codemirror_mode": {
    "name": "ipython",
    "version": 3
   },
   "file_extension": ".py",
   "mimetype": "text/x-python",
   "name": "python",
   "nbconvert_exporter": "python",
   "pygments_lexer": "ipython3",
   "version": "3.10.7"
  },
  "orig_nbformat": 4,
  "vscode": {
   "interpreter": {
    "hash": "51020862dd9a44a9d82d2a5ca9a4c781daef83a9525ea60b677cb40b75b31122"
   }
  }
 },
 "nbformat": 4,
 "nbformat_minor": 2
}
