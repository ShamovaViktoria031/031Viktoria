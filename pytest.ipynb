{
 "cells": [
  {
   "cell_type": "markdown",
   "id": "2e425afc",
   "metadata": {},
   "source": [
    "# python jupiter   \n",
    "## pytest.ipynb\n",
    "### Ctrl-Enter - execute block \n",
    "### Shift-Enter - new block"
   ]
  },
  {
   "cell_type": "code",
   "execution_count": 6,
   "id": "df8c259f",
   "metadata": {},
   "outputs": [
    {
     "name": "stdout",
     "output_type": "stream",
     "text": [
      "3\n"
     ]
    }
   ],
   "source": [
    "a=2\n",
    "print(a+1)"
   ]
  },
  {
   "cell_type": "code",
   "execution_count": 5,
   "id": "f3329af4",
   "metadata": {},
   "outputs": [
    {
     "name": "stdout",
     "output_type": "stream",
     "text": [
      "4\n"
     ]
    }
   ],
   "source": [
    "print(2+2)"
   ]
  },
  {
   "cell_type": "code",
   "execution_count": 4,
   "id": "e417ab23-dd8c-4305-8234-c8f325b03fe7",
   "metadata": {},
   "outputs": [
    {
     "name": "stdout",
     "output_type": "stream",
     "text": [
      "ab\n"
     ]
    }
   ],
   "source": [
    "print('a'+'b')"
   ]
  },
  {
   "cell_type": "code",
   "execution_count": 8,
   "id": "ce3209ee-a061-4947-9c4e-e824cfbda4c5",
   "metadata": {},
   "outputs": [
    {
     "name": "stdout",
     "output_type": "stream",
     "text": [
      "abcabcabcabcabc\n"
     ]
    }
   ],
   "source": [
    "print('abc'*5)"
   ]
  },
  {
   "cell_type": "code",
   "execution_count": 10,
   "id": "383966af",
   "metadata": {},
   "outputs": [
    {
     "name": "stdout",
     "output_type": "stream",
     "text": [
      "['a', 'b', 'c', 'd', 'e', 'f']\n"
     ]
    }
   ],
   "source": [
    "a='abcdef'\n",
    "a=list(a)\n",
    "print(a)"
   ]
  },
  {
   "cell_type": "code",
   "execution_count": null,
   "id": "e8caef2a",
   "metadata": {},
   "outputs": [],
   "source": []
  }
 ],
 "metadata": {
  "kernelspec": {
   "display_name": "Python 3 (ipykernel)",
   "language": "python",
   "name": "python3"
  },
  "language_info": {
   "codemirror_mode": {
    "name": "ipython",
    "version": 3
   },
   "file_extension": ".py",
   "mimetype": "text/x-python",
   "name": "python",
   "nbconvert_exporter": "python",
   "pygments_lexer": "ipython3",
   "version": "3.10.5"
  }
 },
 "nbformat": 4,
 "nbformat_minor": 5
}
